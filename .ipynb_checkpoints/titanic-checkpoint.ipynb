{
 "cells": [
  {
   "cell_type": "markdown",
   "metadata": {},
   "source": [
    "# Titanic: Machine Learning from Disaster #\n",
    "### Logistic Regression ###"
   ]
  },
  {
   "cell_type": "markdown",
   "metadata": {},
   "source": [
    "## Packages ##"
   ]
  },
  {
   "cell_type": "code",
   "execution_count": 744,
   "metadata": {},
   "outputs": [],
   "source": [
    "import pandas as pd\n",
    "import numpy as np\n",
    "import seaborn as sns\n",
    "import matplotlib.pyplot as plt\n",
    "\n",
    "import statsmodels.api as sm\n",
    "from statsmodels.formula.api import ols\n",
    "\n",
    "from sklearn.model_selection import train_test_split\n",
    "from sklearn import metrics\n",
    "from sklearn.metrics import mean_squared_error\n",
    "from sklearn.linear_model import LogisticRegression"
   ]
  },
  {
   "cell_type": "markdown",
   "metadata": {},
   "source": [
    "## Training Set Exploration & Engineering ##"
   ]
  },
  {
   "cell_type": "markdown",
   "metadata": {},
   "source": [
    "### Loading the Training and Test Sets ###\n",
    "Loading training and test sets and combining them for several of the engineering tasks. Dropping the PassengerId column (since it has no purpose in the training), as well as the Name and Ticket columns (since these are random and will not have an effect on whether passengers survived or not)."
   ]
  },
  {
   "cell_type": "code",
   "execution_count": 711,
   "metadata": {},
   "outputs": [],
   "source": [
    "train_raw = pd.read_csv(\"Data/train.csv\")\n",
    "test_raw = pd.read_csv(\"Data/test.csv\")\n",
    "\n",
    "train = train_raw.copy(deep = True)\n",
    "test = test_raw.copy(deep = True)\n",
    "\n",
    "all_data = pd.concat([train, test], axis = 0, join = \"outer\", ignore_index = True, sort = False)\n",
    "all_data = all_data.drop(columns = ['PassengerId', 'Name', 'Ticket'])"
   ]
  },
  {
   "cell_type": "markdown",
   "metadata": {},
   "source": [
    "### Dealing with Missing Values ###"
   ]
  },
  {
   "cell_type": "markdown",
   "metadata": {},
   "source": [
    "#### Checking which features have missing values ####\n",
    "Note: Because the training and test sets are combined, Survived will be missing 418 values, corresponding to the 418 observations of the test. set"
   ]
  },
  {
   "cell_type": "code",
   "execution_count": 712,
   "metadata": {
    "scrolled": true
   },
   "outputs": [
    {
     "data": {
      "text/plain": [
       "Survived     418\n",
       "Pclass         0\n",
       "Sex            0\n",
       "Age          263\n",
       "SibSp          0\n",
       "Parch          0\n",
       "Fare           1\n",
       "Cabin       1014\n",
       "Embarked       2\n",
       "dtype: int64"
      ]
     },
     "execution_count": 712,
     "metadata": {},
     "output_type": "execute_result"
    }
   ],
   "source": [
    "all_data.isnull().sum()"
   ]
  },
  {
   "cell_type": "markdown",
   "metadata": {},
   "source": [
    "#### Dropping Cabin ####\n",
    "Because of the very high percentage of missingness, Cabin will not be helpful in creating the model, so it is dropped."
   ]
  },
  {
   "cell_type": "code",
   "execution_count": 713,
   "metadata": {},
   "outputs": [],
   "source": [
    "all_data = all_data.drop(columns = ['Cabin'])"
   ]
  },
  {
   "cell_type": "markdown",
   "metadata": {},
   "source": [
    "#### Imputing for Age ####\n",
    "Age is potentially an important feature for the model. However, there are 263 missing observations. Instead of simply using the mean or median age to impute the missing values, I used Parch, to estimate ages, since certain Parch values will likely correspond to certain age groups."
   ]
  },
  {
   "cell_type": "code",
   "execution_count": 714,
   "metadata": {},
   "outputs": [
    {
     "data": {
      "image/png": "[encoded data removed]",
      "text/plain": [
       "<Figure size 432x288 with 1 Axes>"
      ]
     },
     "metadata": {
      "needs_background": "light"
     },
     "output_type": "display_data"
    }
   ],
   "source": [
    "# calculating average age by Parch\n",
    "\n",
    "age_parch = all_data[['Age', 'Parch']].copy(deep = True)\n",
    "age_parch_mean = age_parch.copy(deep = True).groupby(by = 'Parch').mean()\n",
    "age_parch_mean.loc[9] = age_parch_mean.loc[6]\n",
    "\n",
    "age_parch_plot = age_parch_mean.plot.bar()"
   ]
  },
  {
   "cell_type": "markdown",
   "metadata": {},
   "source": [
    "As seen above, mean age by Parch value is significantly different between 0 and 2 than other values."
   ]
  },
  {
   "cell_type": "code",
   "execution_count": 715,
   "metadata": {},
   "outputs": [],
   "source": [
    "# imputing age for all null ages\n",
    "\n",
    "def estimateAge(parch):\n",
    "    return round((age_parch_mean.loc[parch]),1)[0]\n",
    "\n",
    "age_parch['estimatedAges'] = age_parch['Parch'].apply(estimateAge)\n",
    "age_parch['Age'] = age_parch['Age'].fillna(age_parch['estimatedAges'])\n",
    "all_data['Age'] = age_parch['Age']"
   ]
  },
  {
   "cell_type": "markdown",
   "metadata": {},
   "source": [
    "#### Imputing for Fare ####\n",
    "Similarly to how the age may be affected by Parch, I used Pclass to help determine the approximate fare cost."
   ]
  },
  {
   "cell_type": "code",
   "execution_count": 716,
   "metadata": {},
   "outputs": [],
   "source": [
    "fare_class = all_data[['Fare', 'Pclass']].copy(deep = True)\n",
    "fare_class_mean = fare_class.copy(deep = True).groupby(by = 'Pclass').mean()\n",
    "all_data['Fare'] = all_data['Fare'].fillna(fare_class_mean.loc[3][0])"
   ]
  },
  {
   "cell_type": "markdown",
   "metadata": {},
   "source": [
    "#### Imputing for Embarked ####\n",
    "I simply used the mode to impute for the missing Embarked values."
   ]
  },
  {
   "cell_type": "code",
   "execution_count": 717,
   "metadata": {},
   "outputs": [],
   "source": [
    "all_data['Embarked'].fillna(all_data['Embarked'].mode()[0], inplace = True)"
   ]
  },
  {
   "cell_type": "markdown",
   "metadata": {},
   "source": [
    "### Visualizing Features' Relationship with Survival Rate ###"
   ]
  },
  {
   "cell_type": "code",
   "execution_count": 718,
   "metadata": {},
   "outputs": [],
   "source": [
    "# extracting the training data from the full data set\n",
    "\n",
    "train_1 = all_data[0:train.shape[0]]"
   ]
  },
  {
   "cell_type": "code",
   "execution_count": 719,
   "metadata": {},
   "outputs": [],
   "source": [
    "# Creating bins for the continuous variables, Age and Fare.\n",
    "\n",
    "age_surv = train_1[['Age', 'Survived']].copy(deep = True)\n",
    "age_surv['Age'] = pd.cut(age_surv['Age'], bins = 10, \n",
    "                         labels = ['5%', '15%', '25%', '35%', '45%', '55%', '65%', '75%', '85%', '95%'])\n",
    "\n",
    "fare_surv = train_1[['Fare', 'Survived']].copy(deep = True)\n",
    "fare_surv['Fare'] = pd.cut(fare_surv['Fare'], bins = 10, \n",
    "                         labels = ['5%', '15%', '25%', '35%', '45%', '55%', '65%', '75%', '85%', '95%'])"
   ]
  },
  {
   "cell_type": "code",
   "execution_count": 720,
   "metadata": {},
   "outputs": [
    {
     "name": "stderr",
     "output_type": "stream",
     "text": [
      "C:\\Users\\Phoenix\\Anaconda3\\lib\\site-packages\\scipy\\stats\\stats.py:1713: FutureWarning: Using a non-tuple sequence for multidimensional indexing is deprecated; use `arr[tuple(seq)]` instead of `arr[seq]`. In the future this will be interpreted as an array index, `arr[np.array(seq)]`, which will result either in an error or a different result.\n",
      "  return np.add.reduce(sorted[indexer] * weights, axis=axis) / sumval\n"
     ]
    },
    {
     "data": {
      "text/plain": [
       "<matplotlib.axes._subplots.AxesSubplot at 0x22ae1fe4630>"
      ]
     },
     "execution_count": 720,
     "metadata": {},
     "output_type": "execute_result"
    },
    {
     "data": {
      "image/png": "[encoded data removed]",
      "text/plain": [
       "<Figure size 1152x864 with 6 Axes>"
      ]
     },
     "metadata": {
      "needs_background": "light"
     },
     "output_type": "display_data"
    },
    {
     "data": {
      "image/png": "[encoded data removed]",
      "text/plain": [
       "<Figure size 342x360 with 1 Axes>"
      ]
     },
     "metadata": {
      "needs_background": "light"
     },
     "output_type": "display_data"
    }
   ],
   "source": [
    "fig, axis = plt.subplots(2, 3,figsize=(16,12))\n",
    "sns.barplot(x = 'Embarked', y = 'Survived', data = train_1, ax = axis[0,0])\n",
    "sns.barplot(x = 'Sex', y = 'Survived', data = train_1, ax = axis[0,1])\n",
    "sns.barplot(x = 'Pclass', y = 'Survived', data = train_1, ax = axis[0,2])\n",
    "sns.barplot(x = 'SibSp', y = 'Survived', data = train_1, ax = axis[1,0])\n",
    "sns.barplot(x = 'Parch', y = 'Survived', data = train_1, ax = axis[1,1])\n",
    "sns.barplot(x = 'Age', y = 'Survived', data = age_surv, ax = axis[1,2])\n",
    "\n",
    "fig, axis = plt.subplots(1, 1,figsize=(4.75,5))\n",
    "sns.barplot(x = 'Fare', y = 'Survived', data = fare_surv)"
   ]
  },
  {
   "cell_type": "markdown",
   "metadata": {},
   "source": [
    "### Determining Significance of Different Means Within Each Variable ###\n",
    "I performed ANOVA tests on all features to see if the survival rates between different groups differed significantly. If they do not, they will not be of use in the model."
   ]
  },
  {
   "cell_type": "code",
   "execution_count": 721,
   "metadata": {},
   "outputs": [
    {
     "name": "stdout",
     "output_type": "stream",
     "text": [
      "ANOVA Tests \n",
      " \n",
      "\n",
      "Pclass\n",
      "              sum_sq     df           F        PR(>F)\n",
      "x          24.142900    1.0  115.031272  2.537047e-25\n",
      "Residual  186.584373  889.0         NaN           NaN\n",
      "\n",
      "\n",
      "Sex\n",
      "              sum_sq     df           F        PR(>F)\n",
      "x          62.213165    1.0  372.405724  1.406066e-69\n",
      "Residual  148.514108  889.0         NaN           NaN\n",
      "\n",
      "\n",
      "Age\n",
      "              sum_sq     df         F    PR(>F)\n",
      "x           0.992262    1.0  4.205881  0.040577\n",
      "Residual  209.735011  889.0       NaN       NaN\n",
      "\n",
      "\n",
      "SibSp\n",
      "              sum_sq     df         F    PR(>F)\n",
      "x           0.262920    1.0  1.110572  0.292244\n",
      "Residual  210.464353  889.0       NaN       NaN\n",
      "\n",
      "\n",
      "Parch\n",
      "              sum_sq     df         F    PR(>F)\n",
      "x           1.404152    1.0  5.963464  0.014799\n",
      "Residual  209.323121  889.0       NaN       NaN\n",
      "\n",
      "\n",
      "Fare\n",
      "              sum_sq     df          F        PR(>F)\n",
      "x          13.951546    1.0  63.030764  6.120189e-15\n",
      "Residual  196.775727  889.0        NaN           NaN\n",
      "\n",
      "\n",
      "Embarked\n",
      "              sum_sq     df          F    PR(>F)\n",
      "x           6.140761    2.0  13.326871  0.000002\n",
      "Residual  204.586511  888.0        NaN       NaN\n",
      "\n",
      "\n"
     ]
    }
   ],
   "source": [
    "y = train_1['Survived']\n",
    "print('ANOVA Tests \\n \\n')\n",
    "\n",
    "for feature in train_1.columns[1:8]:\n",
    "    x = train_1[feature]\n",
    "    print(feature)\n",
    "    mod = ols('y~x', data = train_1).fit()\n",
    "    anova_table = sm.stats.anova_lm(mod, typ=2)\n",
    "    print(anova_table)\n",
    "    print('\\n')"
   ]
  },
  {
   "cell_type": "markdown",
   "metadata": {},
   "source": [
    "From the ANOVA tests above, it seems that for all groups in each variable, with the exception of SibSp, there are significantly different survival rates. This means they will be good fits for our model. However, even with a high P-value, it intuitively makes sense for SibSp to have an effect, so I will keep it in the model."
   ]
  },
  {
   "cell_type": "markdown",
   "metadata": {},
   "source": [
    "### Analyzing Pairwise Correlation between Variables ###\n",
    "If two variables are very highly correlated, it could cause problems with collinearity in the model."
   ]
  },
  {
   "cell_type": "code",
   "execution_count": 730,
   "metadata": {},
   "outputs": [
    {
     "data": {
      "image/png": "[encoded data removed]",
      "text/plain": [
       "<Figure size 720x720 with 2 Axes>"
      ]
     },
     "metadata": {
      "needs_background": "light"
     },
     "output_type": "display_data"
    }
   ],
   "source": [
    "fig, ax = plt.subplots(figsize=(10,10))\n",
    "corr = train_1.corr()\n",
    "corr_heatmap = sns.heatmap(corr, linewidths = .5, annot = True, vmin = -0.6, vmax = 0.6, cmap=\"PiYG\")\n",
    "corr_heatmap.set_title('Variable Correlation')\n",
    "plt.show()"
   ]
  },
  {
   "cell_type": "markdown",
   "metadata": {},
   "source": [
    "While there are some moderate correlations between variables, they are not significant enough to remove from the model."
   ]
  },
  {
   "cell_type": "markdown",
   "metadata": {},
   "source": [
    "### Getting Dummies ###\n",
    "Transforming object variables to a type that can be handled with the logistic regression model."
   ]
  },
  {
   "cell_type": "code",
   "execution_count": 737,
   "metadata": {},
   "outputs": [],
   "source": [
    "all_data = all_data.astype(dtype = {'Pclass': object})\n",
    "all_data_1 = pd.get_dummies(all_data)"
   ]
  },
  {
   "cell_type": "markdown",
   "metadata": {},
   "source": [
    "## Modeling ##"
   ]
  },
  {
   "cell_type": "code",
   "execution_count": 738,
   "metadata": {},
   "outputs": [],
   "source": [
    "train_2 = all_data_1[0:train_1.shape[0]]\n",
    "train_features = train_2.drop(columns = 'Survived')\n",
    "\n",
    "X_train, X_val, y_train, y_val = train_test_split(train_features, train_2[['Survived']], test_size = 0.5, random_state = 1)"
   ]
  },
  {
   "cell_type": "code",
   "execution_count": 769,
   "metadata": {},
   "outputs": [
    {
     "name": "stdout",
     "output_type": "stream",
     "text": [
      "0.7825112107623319\n"
     ]
    },
    {
     "name": "stderr",
     "output_type": "stream",
     "text": [
      "C:\\Users\\Phoenix\\Anaconda3\\lib\\site-packages\\sklearn\\linear_model\\logistic.py:433: FutureWarning: Default solver will be changed to 'lbfgs' in 0.22. Specify a solver to silence this warning.\n",
      "  FutureWarning)\n",
      "C:\\Users\\Phoenix\\Anaconda3\\lib\\site-packages\\sklearn\\utils\\validation.py:761: DataConversionWarning: A column-vector y was passed when a 1d array was expected. Please change the shape of y to (n_samples, ), for example using ravel().\n",
      "  y = column_or_1d(y, warn=True)\n"
     ]
    }
   ],
   "source": [
    "lr = LogisticRegression()\n",
    "lr.fit(X_train, y_train)\n",
    "\n",
    "score = lr.score(X_val, y_val)\n",
    "print(score)"
   ]
  },
  {
   "cell_type": "markdown",
   "metadata": {},
   "source": [
    "LogisticRegression produces around 78% accuracy."
   ]
  },
  {
   "cell_type": "code",
   "execution_count": 770,
   "metadata": {},
   "outputs": [
    {
     "data": {
      "image/png": "[encoded data removed]",
      "text/plain": [
       "<Figure size 576x576 with 2 Axes>"
      ]
     },
     "metadata": {
      "needs_background": "light"
     },
     "output_type": "display_data"
    }
   ],
   "source": [
    "predictions = lr.predict(X_val)\n",
    "cm = metrics.confusion_matrix(y_val, predictions)\n",
    "\n",
    "fig, ax = plt.subplots(figsize=(8,8))\n",
    "cm_heatmap = sns.heatmap(cm, annot = True, linewidths = .5, vmin = 0, vmax = 300, cmap=\"OrRd\", fmt = \"g\")\n",
    "cm_heatmap.set_title('Confusion Matrix')\n",
    "plt.show()"
   ]
  },
  {
   "cell_type": "markdown",
   "metadata": {},
   "source": [
    "According to the confusion matrix above, 12% of passengers that died were predicted as having lived, and 36% of passengers that lived were predicted as having died."
   ]
  },
  {
   "cell_type": "markdown",
   "metadata": {},
   "source": [
    "## Submission to Kaggle Competition ##\n",
    "Prior to submitting my predictions into the Kaggle competition, I want to learn and explore other logistic regression algorithms. From there, I can compare the results of different algorithms and submit the one I feel will perform best."
   ]
  },
  {
   "cell_type": "code",
   "execution_count": null,
   "metadata": {},
   "outputs": [],
   "source": []
  }
 ],
 "metadata": {
  "kernelspec": {
   "display_name": "Python 3",
   "language": "python",
   "name": "python3"
  },
  "language_info": {
   "codemirror_mode": {
    "name": "ipython",
    "version": 3
   },
   "file_extension": ".py",
   "mimetype": "text/x-python",
   "name": "python",
   "nbconvert_exporter": "python",
   "pygments_lexer": "ipython3",
   "version": "3.7.1"
  }
 },
 "nbformat": 4,
 "nbformat_minor": 2
}
